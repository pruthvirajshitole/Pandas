{
 "cells": [
  {
   "cell_type": "code",
   "execution_count": null,
   "id": "96d8c030",
   "metadata": {},
   "outputs": [],
   "source": [
    "import pandas as pd\n",
    "import numpy as np"
   ]
  },
  {
   "cell_type": "code",
   "execution_count": null,
   "id": "3ece9ba0",
   "metadata": {},
   "outputs": [],
   "source": [
    "import pandas as pd\n",
    "import numpy as np\n",
    "data={\n",
    "    'ID': [1, 2, 3, 4, 5, 6, 7, 8, 9, 10,\n",
    "             11, 12, 13, 14, 15, 16, 17, 18, 19, 20,\n",
    "             21, 22, 23, 24, 25, 26, 27, 28, 29, 30,\n",
    "             31, 32, 33, 34, 35, 36, 37, 38, 39, 40,\n",
    "             41, 42, 43, 44, 45, 46, 47, 48, 49, 50,50],\n",
    "\n",
    "      'Name': ['Name_1', 'Name_2', 'Name_3', 'Name_4', 'Name_5', 'Name_6', 'Name_7',\n",
    "               'Name_8', 'Name_9', 'Name_0', 'Name_1', 'Name_2', 'Name_3', 'Name_4',\n",
    "               'Name_5', 'Name_6', 'Name_7', 'Name_8', 'Name_9', 'Name_0', 'Name_1',\n",
    "               'Name_2', 'Name_3', 'Name_4', 'Name_5', 'Name_6', 'Name_7', 'Name_8',\n",
    "               'Name_9', 'Name_0', 'Name_1', 'Name_2', 'Name_3', 'Name_4', 'Name_5',\n",
    "               'Name_6', 'Name_7', 'Name_8', 'Name_9', 'Name_0', 'Name_1', 'Name_2',\n",
    "               'Name_3', 'Name_4', 'Name_5', 'Name_6', 'Name_7', 'Name_8', 'Name_9', 'Name_0','Name_0'],\n",
    "\n",
    "      'Age': [31, 32, 29, 34, 36, 42, 48, 46, 38, 30, 47, 29, 23, 28, 30, 21, 41,\n",
    "              40, 25, 23, 20, 37, 27, 25, 41, 40, 20, 43, 47, 29, 28, 30, 48, 47,\n",
    "              30, 22, 28, 49, 28, 20, 29, 40, 46, 25, 42, 45, 43, 27, 46, 35,35],\n",
    "\n",
    "      'City': ['City_A', 'City_B', 'City_C', 'City_D', 'City_E', 'City_A', 'City_B',\n",
    "               'City_C', 'City_D', 'City_E', 'City_A', 'City_B', 'City_C', 'City_D',\n",
    "               'City_E', 'City_A', 'City_B', 'City_C', 'City_D', 'City_E', 'City_A',\n",
    "               'City_B', 'City_C', 'City_D', 'City_E', 'City_A', 'City_B', 'City_C',\n",
    "               'City_D', 'City_E', 'City_A', 'City_B', 'City_C', 'City_D', 'City_E',\n",
    "               'City_A', 'City_B', 'City_C', 'City_D', 'City_E', 'City_A', 'City_B',\n",
    "               'City_C', 'City_D', 'City_E', 'City_A', 'City_B', 'City_C', 'City_D', 'City_E','City_E'],\n",
    "\n",
    "      'Score': [92, 83, 26, 56, 67,  9, 64, 46, 65, 59, 71, 46, 63, 21, 81, 25, 17,\n",
    "               19, 45,  2, 83, 76, 51, 84, 45, 88, 96, 28, 54, 87, 60,  4, 26, 48,\n",
    "               74, 89, 91,  6, 31, 21,  5, 40,  0, 33, 63, 92, 44, 80,  4, 87,87],\n",
    "\n",
    "      'Remarks': ['Pass', 'Fail', None, 'Pass', 'Fail', 'Pass', 'Fail', None, 'Pass',\n",
    "                  'Fail', 'Pass', 'Fail', None, 'Pass', 'Fail', 'Pass', 'Fail', None,\n",
    "                  'Pass', 'Fail', 'Pass', 'Fail', None, 'Pass', 'Fail', 'Pass', 'Fail',\n",
    "                  None, 'Pass', 'Fail', 'Pass', 'Fail', None, 'Pass', 'Fail', 'Pass',\n",
    "                  'Fail', None, 'Pass', 'Fail', 'Pass', 'Fail', None, 'Pass', 'Fail',\n",
    "                  'Pass', 'Fail', None, 'Pass', 'Fail','Fail']\n",
    "      }\n",
    "df = pd.DataFrame(data)\n",
    "print(df.to_string())"
   ]
  },
  {
   "cell_type": "code",
   "execution_count": null,
   "id": "2a260838",
   "metadata": {},
   "outputs": [],
   "source": [
    "df.info()"
   ]
  },
  {
   "cell_type": "code",
   "execution_count": null,
   "id": "8c01a177",
   "metadata": {},
   "outputs": [],
   "source": [
    "# Replacing Values\n",
    "\n",
    "df.replace({'Pass': \"Success\", 'Fail': 'Failure'},inplace=True)\n",
    "df"
   ]
  },
  {
   "cell_type": "code",
   "execution_count": null,
   "id": "58372e36",
   "metadata": {},
   "outputs": [],
   "source": [
    "# Split\n",
    "\n",
    "df[\"City_Split\"] = df['City'].str.split(\"_\").str[1]\n",
    "\n",
    "df"
   ]
  },
  {
   "cell_type": "code",
   "execution_count": null,
   "id": "29c4e994",
   "metadata": {},
   "outputs": [],
   "source": [
    "# Merge\n",
    "\n",
    "df[\"City_Name\"] = df[\"City\"]+\"-\"+df[\"Name\"]\n",
    "df"
   ]
  },
  {
   "cell_type": "code",
   "execution_count": null,
   "id": "17cf5f99",
   "metadata": {},
   "outputs": [],
   "source": [
    "'''\n",
    "\n",
    "6. Pivoting Columns\n",
    "\n",
    "Pivoting: Pivoting is the process of reshaping data by turning unique values from\n",
    "\n",
    "one column into multiple columns to create a summarized or reorganized table.\n",
    "\n",
    "'''\n",
    "\n",
    "pivot_df = df.pivot_table(values='Score', index='City', columns='Remarks', aggfunc='mean').reset_index()\n",
    "\n",
    "df = df.merge(pivot_df, on='City', how='left')\n",
    "\n",
    "df"
   ]
  },
  {
   "cell_type": "code",
   "execution_count": null,
   "id": "fedb9e11",
   "metadata": {},
   "outputs": [],
   "source": [
    "'''\n",
    " 7. Unpivoting Columns\n",
    "\n",
    "Unpivoting: Unpivoting is the reverse of pivoting, where multiple columns\n",
    "\n",
    "are converted into rows to make the dataset longer and more normalized.\n",
    "\n",
    "'''\n",
    "\n",
    "unpivoted = df.melt(id_vars=['ID','Remarks'], value_vars=['Failure', 'Success'])\n",
    "\n",
    "df = df.merge(unpivoted, how='left')\n",
    "df"
   ]
  },
  {
   "cell_type": "code",
   "execution_count": null,
   "id": "6a8b937f",
   "metadata": {},
   "outputs": [],
   "source": [
    "# Grouping data\n",
    "\n",
    "grouped = df.groupby('City')['Score'].mean()\n",
    "df = df.merge(grouped, on='City',how='left')\n",
    "\n",
    "df"
   ]
  },
  {
   "cell_type": "code",
   "execution_count": null,
   "id": "07380111",
   "metadata": {},
   "outputs": [],
   "source": [
    "# Conditional column\n",
    "\n",
    "df['Category'] = df['Score_x'].apply(lambda x:'High' if x>60 else 'Low')\n",
    "df"
   ]
  }
 ],
 "metadata": {
  "kernelspec": {
   "display_name": "Python 3",
   "language": "python",
   "name": "python3"
  },
  "language_info": {
   "codemirror_mode": {
    "name": "ipython",
    "version": 3
   },
   "file_extension": ".py",
   "mimetype": "text/x-python",
   "name": "python",
   "nbconvert_exporter": "python",
   "pygments_lexer": "ipython3",
   "version": "3.13.2"
  }
 },
 "nbformat": 4,
 "nbformat_minor": 5
}
