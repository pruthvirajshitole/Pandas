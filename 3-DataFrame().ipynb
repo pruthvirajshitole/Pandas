{
 "cells": [
  {
   "cell_type": "markdown",
   "id": "3cc62b5b",
   "metadata": {},
   "source": [
    "DataFrame"
   ]
  },
  {
   "cell_type": "code",
   "execution_count": null,
   "id": "f7866f56",
   "metadata": {},
   "outputs": [],
   "source": [
    "'''\n",
    "Data sets in Pandas are usually multi-dimensional tables, called DataFrames.\n",
    "Series is like a column, a DataFrame is the whole table.\n",
    "\n",
    "DataFrame Homogeneity:\n",
    "1. A DataFrame can be heterogeneous across columns but homogeneous within each column\n",
    "2. Each column in a DataFrame behaves like a Series\n",
    "3. DataFrame columns can have different dtypes (mixed types)\n",
    "4. Common dtypes in DataFrame:\n",
    "    - numeric (int64, float64)\n",
    "    - object (strings)\n",
    "    - boolean\n",
    "    - datetime\n",
    "5. Column-wise homogeneity is enforced, meaning all values in a single column must be of the same type\n",
    "'''"
   ]
  },
  {
   "cell_type": "code",
   "execution_count": 1,
   "id": "6b8ee928",
   "metadata": {},
   "outputs": [],
   "source": [
    "import pandas as pd"
   ]
  },
  {
   "cell_type": "code",
   "execution_count": 2,
   "id": "755b0eac",
   "metadata": {},
   "outputs": [
    {
     "name": "stdout",
     "output_type": "stream",
     "text": [
      "     x   y\n",
      "0  420  50\n",
      "1  380  40\n",
      "2  390  45\n",
      "<class 'pandas.core.frame.DataFrame'>\n"
     ]
    }
   ],
   "source": [
    "data = {\n",
    "  \"x\": [420, 380, 390],\n",
    "  \"y\": [50, 40, 45]\n",
    "}\n",
    "\n",
    "df = pd.DataFrame(data)\n",
    "print(df)\n",
    "\n",
    "print(type(df))  # <class 'pandas.core.frame.DataFrame'>"
   ]
  },
  {
   "cell_type": "code",
   "execution_count": 3,
   "id": "0af727d7",
   "metadata": {},
   "outputs": [
    {
     "name": "stdout",
     "output_type": "stream",
     "text": [
      "   0   1  2\n",
      "a  5  45  1\n",
      "b  4  54  2\n",
      "c  3  76  3\n",
      "d  2   c  4\n",
      "object\n"
     ]
    }
   ],
   "source": [
    "data = {\n",
    "    0 : [5,4,3,2],\n",
    "    1 : [45,54,76,'c'],\n",
    "    2 : [1,2,3,4]\n",
    "}\n",
    "\n",
    "df = pd.DataFrame(data,index = ['a','b','c','d'])\n",
    "print(df)\n",
    "\n",
    "print(df[1].dtype)"
   ]
  },
  {
   "cell_type": "code",
   "execution_count": null,
   "id": "70baa0de",
   "metadata": {},
   "outputs": [],
   "source": [
    "'''\n",
    "Features      |    .loc          |       .iloc\n",
    "--------------|------------------|-----------------\n",
    "Indexing      |  Lable-based     |   Integer-based\n",
    "slicing       |  Includes end    |   Excludes end\n",
    "works with    |  Named index     |   Numerical index \n",
    "Ex.           |  df.loc['a','b'] |   df.iloc[0,1]\n",
    "\n",
    "'''"
   ]
  },
  {
   "cell_type": "code",
   "execution_count": null,
   "id": "19fb240c",
   "metadata": {},
   "outputs": [],
   "source": [
    "'''\n",
    ".loc  (Label-Based Indexing) :\n",
    "    It selects rows and columns based on explicit labels (row index names or column names).\n",
    "    Syntax : \n",
    "        df.loc[row_label, column_label]\n",
    "\n",
    ".iloc (Integer-Based Indexing):\n",
    "    It selects rows and columns based on integer positions (0-based index).\n",
    "    Syntax :\n",
    "        df.iloc[row_index, column_index]\n",
    "'''"
   ]
  },
  {
   "cell_type": "code",
   "execution_count": 4,
   "id": "8879a9cf",
   "metadata": {},
   "outputs": [
    {
     "data": {
      "text/html": [
       "<div>\n",
       "<style scoped>\n",
       "    .dataframe tbody tr th:only-of-type {\n",
       "        vertical-align: middle;\n",
       "    }\n",
       "\n",
       "    .dataframe tbody tr th {\n",
       "        vertical-align: top;\n",
       "    }\n",
       "\n",
       "    .dataframe thead th {\n",
       "        text-align: right;\n",
       "    }\n",
       "</style>\n",
       "<table border=\"1\" class=\"dataframe\">\n",
       "  <thead>\n",
       "    <tr style=\"text-align: right;\">\n",
       "      <th></th>\n",
       "      <th>10</th>\n",
       "      <th>11</th>\n",
       "      <th>12</th>\n",
       "    </tr>\n",
       "  </thead>\n",
       "  <tbody>\n",
       "    <tr>\n",
       "      <th>a</th>\n",
       "      <td>5</td>\n",
       "      <td>45</td>\n",
       "      <td>1</td>\n",
       "    </tr>\n",
       "    <tr>\n",
       "      <th>b</th>\n",
       "      <td>4</td>\n",
       "      <td>54</td>\n",
       "      <td>2</td>\n",
       "    </tr>\n",
       "    <tr>\n",
       "      <th>c</th>\n",
       "      <td>3</td>\n",
       "      <td>76</td>\n",
       "      <td>3</td>\n",
       "    </tr>\n",
       "    <tr>\n",
       "      <th>d</th>\n",
       "      <td>2</td>\n",
       "      <td>c</td>\n",
       "      <td>4</td>\n",
       "    </tr>\n",
       "  </tbody>\n",
       "</table>\n",
       "</div>"
      ],
      "text/plain": [
       "   10  11  12\n",
       "a   5  45   1\n",
       "b   4  54   2\n",
       "c   3  76   3\n",
       "d   2   c   4"
      ]
     },
     "execution_count": 4,
     "metadata": {},
     "output_type": "execute_result"
    }
   ],
   "source": [
    "# .loc\n",
    "\n",
    "data = {\n",
    "    '10' : [5,4,3,2],\n",
    "    '11' : [45,54,76,'c'],\n",
    "    '12' : [1,2,3,4]\n",
    "}\n",
    "\n",
    "df = pd.DataFrame(data,index = ['a','b','c','d'])\n",
    "\n",
    "df.loc['a':'d']"
   ]
  },
  {
   "cell_type": "code",
   "execution_count": 8,
   "id": "836b3a54",
   "metadata": {},
   "outputs": [
    {
     "name": "stdout",
     "output_type": "stream",
     "text": [
      "   0   1  2\n",
      "a  5  45  1\n",
      "b  4  54  2\n",
      "c  3  76  3\n",
      "d  2   c  4\n"
     ]
    },
    {
     "data": {
      "text/html": [
       "<div>\n",
       "<style scoped>\n",
       "    .dataframe tbody tr th:only-of-type {\n",
       "        vertical-align: middle;\n",
       "    }\n",
       "\n",
       "    .dataframe tbody tr th {\n",
       "        vertical-align: top;\n",
       "    }\n",
       "\n",
       "    .dataframe thead th {\n",
       "        text-align: right;\n",
       "    }\n",
       "</style>\n",
       "<table border=\"1\" class=\"dataframe\">\n",
       "  <thead>\n",
       "    <tr style=\"text-align: right;\">\n",
       "      <th></th>\n",
       "      <th>0</th>\n",
       "      <th>1</th>\n",
       "      <th>2</th>\n",
       "    </tr>\n",
       "  </thead>\n",
       "  <tbody>\n",
       "    <tr>\n",
       "      <th>b</th>\n",
       "      <td>4</td>\n",
       "      <td>54</td>\n",
       "      <td>2</td>\n",
       "    </tr>\n",
       "    <tr>\n",
       "      <th>c</th>\n",
       "      <td>3</td>\n",
       "      <td>76</td>\n",
       "      <td>3</td>\n",
       "    </tr>\n",
       "    <tr>\n",
       "      <th>d</th>\n",
       "      <td>2</td>\n",
       "      <td>c</td>\n",
       "      <td>4</td>\n",
       "    </tr>\n",
       "  </tbody>\n",
       "</table>\n",
       "</div>"
      ],
      "text/plain": [
       "   0   1  2\n",
       "b  4  54  2\n",
       "c  3  76  3\n",
       "d  2   c  4"
      ]
     },
     "execution_count": 8,
     "metadata": {},
     "output_type": "execute_result"
    }
   ],
   "source": [
    "# .iloc\n",
    "\n",
    "data = {\n",
    "    0 : [5,4,3,2],\n",
    "    1 : [45,54,76,'c'],\n",
    "    2 : [1,2,3,4]\n",
    "}\n",
    "\n",
    "df = pd.DataFrame(data,index = ['a','b','c','d'])\n",
    "print(df)\n",
    "\n",
    "df.iloc[1:]"
   ]
  }
 ],
 "metadata": {
  "kernelspec": {
   "display_name": "Python 3",
   "language": "python",
   "name": "python3"
  },
  "language_info": {
   "codemirror_mode": {
    "name": "ipython",
    "version": 3
   },
   "file_extension": ".py",
   "mimetype": "text/x-python",
   "name": "python",
   "nbconvert_exporter": "python",
   "pygments_lexer": "ipython3",
   "version": "3.13.2"
  }
 },
 "nbformat": 4,
 "nbformat_minor": 5
}
