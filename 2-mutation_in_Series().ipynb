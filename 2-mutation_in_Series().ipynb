{
 "cells": [
  {
   "cell_type": "code",
   "execution_count": 2,
   "id": "d591e156",
   "metadata": {},
   "outputs": [],
   "source": [
    "import pandas as pd"
   ]
  },
  {
   "cell_type": "code",
   "execution_count": 2,
   "id": "7d589426",
   "metadata": {},
   "outputs": [
    {
     "name": "stdout",
     "output_type": "stream",
     "text": [
      "0       1\n",
      "1       2\n",
      "2       3\n",
      "3       4\n",
      "4       5\n",
      "10     99\n",
      "10    101\n",
      "-2    101\n",
      "dtype: int64\n"
     ]
    }
   ],
   "source": [
    "# 1-add\n",
    "\n",
    "d = pd.Series([1,2,3,4,5])\n",
    "y = pd.Series([99,101,101],index=['10',10,-2])\n",
    "d = pd.concat([d,y])\n",
    "print(d)"
   ]
  },
  {
   "cell_type": "code",
   "execution_count": 3,
   "id": "d39fde84",
   "metadata": {},
   "outputs": [
    {
     "name": "stdout",
     "output_type": "stream",
     "text": [
      "0        1\n",
      "1        2\n",
      "2    Three\n",
      "3        4\n",
      "4        5\n",
      "dtype: object\n"
     ]
    },
    {
     "name": "stderr",
     "output_type": "stream",
     "text": [
      "C:\\Users\\pruth\\AppData\\Local\\Temp\\ipykernel_6740\\298418960.py:4: FutureWarning: Setting an item of incompatible dtype is deprecated and will raise an error in a future version of pandas. Value 'Three' has dtype incompatible with int64, please explicitly cast to a compatible dtype first.\n",
      "  d[2] = 'Three'\n"
     ]
    }
   ],
   "source": [
    "# update\n",
    "\n",
    "d = pd.Series([1,2,3,4,5])\n",
    "d[2] = 'Three'\n",
    "print(d)"
   ]
  },
  {
   "cell_type": "code",
   "execution_count": 6,
   "id": "dc59f9be",
   "metadata": {},
   "outputs": [
    {
     "name": "stdout",
     "output_type": "stream",
     "text": [
      "0     11\n",
      "1     22\n",
      "2    333\n",
      "2     33\n",
      "3     44\n",
      "4     55\n",
      "dtype: int64\n"
     ]
    }
   ],
   "source": [
    "# insert\n",
    "\n",
    "d = pd.Series([11,22,33,44,55])\n",
    "i = pd.Series([333],index=[2])\n",
    "d = pd.concat([d[:2],i,d[2:]])\n",
    "print(d)"
   ]
  },
  {
   "cell_type": "code",
   "execution_count": 7,
   "id": "6e52e41b",
   "metadata": {},
   "outputs": [
    {
     "data": {
      "text/plain": [
       "0    11\n",
       "1    22\n",
       "2    33\n",
       "3    44\n",
       "dtype: int64"
      ]
     },
     "execution_count": 7,
     "metadata": {},
     "output_type": "execute_result"
    }
   ],
   "source": [
    "# delete\n",
    "\n",
    "d = pd.Series([11,22,33,44,55])\n",
    "d = d.drop(4)\n",
    "d"
   ]
  }
 ],
 "metadata": {
  "kernelspec": {
   "display_name": "Python 3",
   "language": "python",
   "name": "python3"
  },
  "language_info": {
   "codemirror_mode": {
    "name": "ipython",
    "version": 3
   },
   "file_extension": ".py",
   "mimetype": "text/x-python",
   "name": "python",
   "nbconvert_exporter": "python",
   "pygments_lexer": "ipython3",
   "version": "3.13.2"
  }
 },
 "nbformat": 4,
 "nbformat_minor": 5
}
