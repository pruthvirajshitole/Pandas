{
 "cells": [
  {
   "cell_type": "markdown",
   "id": "946c4af9",
   "metadata": {},
   "source": [
    "Wrong Format"
   ]
  },
  {
   "cell_type": "code",
   "execution_count": 1,
   "id": "8d373371",
   "metadata": {},
   "outputs": [
    {
     "data": {
      "text/plain": [
       "'\\n1. to_datetime()\\n   - Converts a string or other type to datetime.\\n   - Usage:\\n        pd.to_datetime(df[\\'date_column\\'])\\n\\n\\n2. to_numeric()\\n   - Converts argument to a numeric type (integer or float).\\n   - Usage:\\n        pd.to_numeric(df[\\'numeric_column\\'])\\n\\n\\n3. astype()\\n   - Casts a pandas object (Series or DataFrame) to a specified type.\\n   - Usage:\\n        df[\\'column\\'] = df[\\'column\\'].astype(int)\\n\\n\\n4. to_timedelta()\\n   - Converts argument to timedelta type.\\n   - Usage:\\n        pd.to_timedelta(df[\\'time_column\\'])\\n\\n    td = pd.to_timedelta(\"2 days 5 hours 30 minutes\")\\n    print(td)  # 2 days 05:30:00\\n\\n\\n5. convert_dtypes()\\n   - Automatically converts columns to the best possible dtypes.\\n   - Usage:\\n        df.convert_dtypes()\\n\\n6. pd.Categorical()\\n   - Converts a list-like object to a categorical type (useful for reducing memory usage).\\n   - Usage:\\n        df[\\'category_column\\'] = pd.Categorical(df[\\'category_column\\'])\\n\\n\\n7. apply(pd.to_numeric)\\n   - Converts columns to numeric by applying to_numeric across DataFrame columns.\\n   - Usage:\\n        df = df.apply(pd.to_numeric, errors=\\'coerce\\')\\n\\n\\n8. str.strip(), str.lower(), str.upper() (for String Columns)\\n   - Used to clean or standardize string columns.\\n   - Usage:\\n        df[\\'string_column\\'] = df[\\'string_column\\'].str.strip().str.lower()\\n\\n\\n9. map()\\n   - Used to convert or map elements in a column.\\n   - Usage:\\n        df[\\'mapped_column\\'] = df[\\'column\\'].map({\\'old_value\\': \\'new_value\\'})\\n\\n'"
      ]
     },
     "execution_count": 1,
     "metadata": {},
     "output_type": "execute_result"
    }
   ],
   "source": [
    "'''\n",
    "1. to_datetime()\n",
    "   - Converts a string or other type to datetime.\n",
    "   - Usage:\n",
    "        pd.to_datetime(df['date_column'])\n",
    "\n",
    "        \n",
    "2. to_numeric()\n",
    "   - Converts argument to a numeric type (integer or float).\n",
    "   - Usage:\n",
    "        pd.to_numeric(df['numeric_column'])\n",
    "\n",
    "        \n",
    "3. astype()\n",
    "   - Casts a pandas object (Series or DataFrame) to a specified type.\n",
    "   - Usage:\n",
    "        df['column'] = df['column'].astype(int)\n",
    "\n",
    "        \n",
    "4. to_timedelta()\n",
    "   - Converts argument to timedelta type.\n",
    "   - Usage:\n",
    "        pd.to_timedelta(df['time_column'])\n",
    " \n",
    "    td = pd.to_timedelta(\"2 days 5 hours 30 minutes\")\n",
    "    print(td)  # 2 days 05:30:00\n",
    "    \n",
    "\n",
    "5. convert_dtypes()\n",
    "   - Automatically converts columns to the best possible dtypes.\n",
    "   - Usage:\n",
    "        df.convert_dtypes()\n",
    "\n",
    "6. pd.Categorical()\n",
    "   - Converts a list-like object to a categorical type (useful for reducing memory usage).\n",
    "   - Usage:\n",
    "        df['category_column'] = pd.Categorical(df['category_column'])\n",
    "\n",
    "     \n",
    "7. apply(pd.to_numeric)\n",
    "   - Converts columns to numeric by applying to_numeric across DataFrame columns.\n",
    "   - Usage:\n",
    "        df = df.apply(pd.to_numeric, errors='coerce')\n",
    "\n",
    "        \n",
    "8. str.strip(), str.lower(), str.upper() (for String Columns)\n",
    "   - Used to clean or standardize string columns.\n",
    "   - Usage:\n",
    "        df['string_column'] = df['string_column'].str.strip().str.lower()\n",
    "\n",
    "        \n",
    "9. map()\n",
    "   - Used to convert or map elements in a column.\n",
    "   - Usage:\n",
    "        df['mapped_column'] = df['column'].map({'old_value': 'new_value'})\n",
    "\n",
    "'''"
   ]
  },
  {
   "cell_type": "code",
   "execution_count": 2,
   "id": "6ed04846",
   "metadata": {},
   "outputs": [],
   "source": [
    "import pandas as pd\n",
    "import numpy as np"
   ]
  },
  {
   "cell_type": "code",
   "execution_count": 3,
   "id": "7add5d47",
   "metadata": {},
   "outputs": [
    {
     "name": "stdout",
     "output_type": "stream",
     "text": [
      "--------original-df--------\n",
      "      Name   Age  Salary    JoinDate Department Bonus\n",
      "0    Alice  25.0   50000  2022-01-10         HR    5%\n",
      "1      Bob  30.0   60000  2021-05-15    Finance   10%\n",
      "2  Charlie  35.0   70000        None         IT   15%\n",
      "3    David  40.0   80000  2023-07-20  Marketing  None\n",
      "4      Eve   NaN   90000  2020-03-01       None   20%\n",
      "5     None  28.0   55000  2023-01-01         HR    5%\n",
      "6    Alice  25.0   50000  2022-01-10         HR    5%\n"
     ]
    }
   ],
   "source": [
    "data = {\n",
    "    \"Name\": [\"Alice\", \"Bob\", \"Charlie\", \"David\", \"Eve\", None, \"Alice\"],\n",
    "    \"Age\": [25, 30, 35, 40, np.nan, 28, 25],\n",
    "    \"Salary\": [50000, 60000, 70000, 80000, 90000, 55000, 50000],\n",
    "    \"JoinDate\": [\"2022-01-10\", \"2021-05-15\", None, \"2023-07-20\", \"2020-03-01\", \"2023-01-01\", \"2022-01-10\"],\n",
    "    \"Department\": [\"HR\", \"Finance\", \"IT\", \"Marketing\", None, \"HR\", \"HR\"],\n",
    "    \"Bonus\": [\"5%\", \"10%\", \"15%\", None, \"20%\", \"5%\", \"5%\"],\n",
    "}\n",
    "\n",
    "print('--------original-df--------')\n",
    "df = pd.DataFrame(data)\n",
    "print(df)"
   ]
  },
  {
   "cell_type": "code",
   "execution_count": 4,
   "id": "c1e92320",
   "metadata": {},
   "outputs": [
    {
     "name": "stdout",
     "output_type": "stream",
     "text": [
      "object\n",
      "datetime64[ns]\n"
     ]
    }
   ],
   "source": [
    "print(df['JoinDate'].dtype)\n",
    "\n",
    "df['JoinDate'] = pd.to_datetime(df['JoinDate'])  # changing datatype\n",
    "print(df['JoinDate'].dtype)"
   ]
  },
  {
   "cell_type": "code",
   "execution_count": 5,
   "id": "eded22d8",
   "metadata": {},
   "outputs": [
    {
     "data": {
      "text/plain": [
       "Name                  object\n",
       "Age                  float64\n",
       "Salary                 int64\n",
       "JoinDate      datetime64[ns]\n",
       "Department            object\n",
       "Bonus                 object\n",
       "dtype: object"
      ]
     },
     "execution_count": 5,
     "metadata": {},
     "output_type": "execute_result"
    }
   ],
   "source": [
    "df.dtypes"
   ]
  },
  {
   "cell_type": "code",
   "execution_count": 6,
   "id": "0171717c",
   "metadata": {},
   "outputs": [
    {
     "name": "stdout",
     "output_type": "stream",
     "text": [
      "      Name   Age  Salary   JoinDate Department Bonus\n",
      "0    Alice  25.0   50000 2022-01-10         HR    5%\n",
      "1      Bob  30.0   60000 2021-05-15    Finance   10%\n",
      "2  Charlie  35.0   70000        NaT         IT   15%\n",
      "3    David  40.0   80000 2023-07-20  Marketing  None\n",
      "4      Eve -20.0   90000 2020-03-01       None   20%\n",
      "5     None  28.0   55000 2023-01-01         HR    5%\n",
      "6    Alice  25.0   50000 2022-01-10         HR    5%\n",
      "--------Removing Negative Values--------\n",
      "      Name   Age  Salary   JoinDate Department Bonus\n",
      "0    Alice  25.0   50000 2022-01-10         HR    5%\n",
      "1      Bob  30.0   60000 2021-05-15    Finance   10%\n",
      "2  Charlie  35.0   70000        NaT         IT   15%\n",
      "3    David  40.0   80000 2023-07-20  Marketing  None\n",
      "4      Eve   0.0   90000 2020-03-01       None   20%\n",
      "5     None  28.0   55000 2023-01-01         HR    5%\n",
      "6    Alice  25.0   50000 2022-01-10         HR    5%\n"
     ]
    },
    {
     "name": "stderr",
     "output_type": "stream",
     "text": [
      "C:\\Users\\pruth\\AppData\\Local\\Temp\\ipykernel_18560\\2242819261.py:1: FutureWarning: A value is trying to be set on a copy of a DataFrame or Series through chained assignment using an inplace method.\n",
      "The behavior will change in pandas 3.0. This inplace method will never work because the intermediate object on which we are setting values always behaves as a copy.\n",
      "\n",
      "For example, when doing 'df[col].method(value, inplace=True)', try using 'df.method({col: value}, inplace=True)' or df[col] = df[col].method(value) instead, to perform the operation inplace on the original object.\n",
      "\n",
      "\n",
      "  df['Age'].fillna(-20,inplace=True)\n"
     ]
    }
   ],
   "source": [
    "df['Age'].fillna(-20,inplace=True)\n",
    "print(df)\n",
    "\n",
    "print(\"--------Removing Negative Values--------\")\n",
    "for i in df.index:\n",
    "    if df.loc[i,'Age'] < 0:\n",
    "        df.loc[i,'Age'] = 0\n",
    "print(df)"
   ]
  },
  {
   "cell_type": "markdown",
   "id": "2faefbf1",
   "metadata": {},
   "source": [
    "Duplicated Rows"
   ]
  },
  {
   "cell_type": "code",
   "execution_count": 7,
   "id": "99641660",
   "metadata": {},
   "outputs": [
    {
     "name": "stdout",
     "output_type": "stream",
     "text": [
      "1\n"
     ]
    },
    {
     "data": {
      "text/html": [
       "<div>\n",
       "<style scoped>\n",
       "    .dataframe tbody tr th:only-of-type {\n",
       "        vertical-align: middle;\n",
       "    }\n",
       "\n",
       "    .dataframe tbody tr th {\n",
       "        vertical-align: top;\n",
       "    }\n",
       "\n",
       "    .dataframe thead th {\n",
       "        text-align: right;\n",
       "    }\n",
       "</style>\n",
       "<table border=\"1\" class=\"dataframe\">\n",
       "  <thead>\n",
       "    <tr style=\"text-align: right;\">\n",
       "      <th></th>\n",
       "      <th>Name</th>\n",
       "      <th>Age</th>\n",
       "      <th>Salary</th>\n",
       "      <th>JoinDate</th>\n",
       "      <th>Department</th>\n",
       "      <th>Bonus</th>\n",
       "    </tr>\n",
       "  </thead>\n",
       "  <tbody>\n",
       "    <tr>\n",
       "      <th>0</th>\n",
       "      <td>Alice</td>\n",
       "      <td>25.0</td>\n",
       "      <td>50000</td>\n",
       "      <td>2022-01-10</td>\n",
       "      <td>HR</td>\n",
       "      <td>5%</td>\n",
       "    </tr>\n",
       "    <tr>\n",
       "      <th>1</th>\n",
       "      <td>Bob</td>\n",
       "      <td>30.0</td>\n",
       "      <td>60000</td>\n",
       "      <td>2021-05-15</td>\n",
       "      <td>Finance</td>\n",
       "      <td>10%</td>\n",
       "    </tr>\n",
       "    <tr>\n",
       "      <th>2</th>\n",
       "      <td>Charlie</td>\n",
       "      <td>35.0</td>\n",
       "      <td>70000</td>\n",
       "      <td>NaT</td>\n",
       "      <td>IT</td>\n",
       "      <td>15%</td>\n",
       "    </tr>\n",
       "    <tr>\n",
       "      <th>3</th>\n",
       "      <td>David</td>\n",
       "      <td>40.0</td>\n",
       "      <td>80000</td>\n",
       "      <td>2023-07-20</td>\n",
       "      <td>Marketing</td>\n",
       "      <td>None</td>\n",
       "    </tr>\n",
       "    <tr>\n",
       "      <th>4</th>\n",
       "      <td>Eve</td>\n",
       "      <td>0.0</td>\n",
       "      <td>90000</td>\n",
       "      <td>2020-03-01</td>\n",
       "      <td>None</td>\n",
       "      <td>20%</td>\n",
       "    </tr>\n",
       "    <tr>\n",
       "      <th>5</th>\n",
       "      <td>None</td>\n",
       "      <td>28.0</td>\n",
       "      <td>55000</td>\n",
       "      <td>2023-01-01</td>\n",
       "      <td>HR</td>\n",
       "      <td>5%</td>\n",
       "    </tr>\n",
       "  </tbody>\n",
       "</table>\n",
       "</div>"
      ],
      "text/plain": [
       "      Name   Age  Salary   JoinDate Department Bonus\n",
       "0    Alice  25.0   50000 2022-01-10         HR    5%\n",
       "1      Bob  30.0   60000 2021-05-15    Finance   10%\n",
       "2  Charlie  35.0   70000        NaT         IT   15%\n",
       "3    David  40.0   80000 2023-07-20  Marketing  None\n",
       "4      Eve   0.0   90000 2020-03-01       None   20%\n",
       "5     None  28.0   55000 2023-01-01         HR    5%"
      ]
     },
     "execution_count": 7,
     "metadata": {},
     "output_type": "execute_result"
    }
   ],
   "source": [
    "print(df.duplicated().sum())\n",
    "df.drop_duplicates(inplace=True)\n",
    "df"
   ]
  }
 ],
 "metadata": {
  "kernelspec": {
   "display_name": "Python 3",
   "language": "python",
   "name": "python3"
  },
  "language_info": {
   "codemirror_mode": {
    "name": "ipython",
    "version": 3
   },
   "file_extension": ".py",
   "mimetype": "text/x-python",
   "name": "python",
   "nbconvert_exporter": "python",
   "pygments_lexer": "ipython3",
   "version": "3.13.2"
  }
 },
 "nbformat": 4,
 "nbformat_minor": 5
}
