{
 "cells": [
  {
   "cell_type": "code",
   "execution_count": null,
   "id": "6cb87a9a",
   "metadata": {},
   "outputs": [],
   "source": [
    "import numpy as np\n",
    "import pandas as pd"
   ]
  },
  {
   "cell_type": "code",
   "execution_count": null,
   "id": "c3280cd0",
   "metadata": {},
   "outputs": [],
   "source": [
    "data = {\n",
    "    \"ID\": [1, 2, 3, 4, 5, 6, 7, 8, 9, 10,\n",
    "           11, 12, 13, 14, 15, 16, 17, 18, 19, 20],\n",
    "    \"Name\": [\"Alice\", \"bob\", \"Charlie\", \"Diana\", \"Eric\", \"Fiona\", \"George\", \"Henry\", \"Isabella\", \"jack\",\n",
    "             \"Kevin\", \"LISA\", \"Ali\", \"NaN\", \"daniel\", \"Ali\", \"Samuel\", \"ALICE\", \"George\", \"Zayn\"],\n",
    "    \"Age\": [18, 17, 17.0, None, 16, 18, 25, 17, 17, 16,\n",
    "            None, 18, 19, 20, \"seventeen\", 19, 21, 18, 25, 22],\n",
    "    \"Gender\": [\"Female\", \"male\", \"Male\", \"Female\", \"Male\", \"Female\", \"Male\", \"Male\", \"F\", \"M\",\n",
    "               \"Male\", \"female\", \"Male\", \"Other\", \"M\", \"Male\", \"Female\", \"FEMALE\", \"MALE\", \"unknown\"],\n",
    "    \"StudyHours\": [5.0, None, 6.5, 2.0, 20.0, 3.0, 1.5, 4.0, 5.0, 6.0,\n",
    "                   None, 3.5, 4.2, 5.1, \"four\", 2.2, 3.3, 6.7, 1.1, 5.5],\n",
    "    \"Attendance\": [90, 85, 88, 45, 95, \"N/A\", 10, 80, 89, 87,\n",
    "                   60, 70, 77, 100, 85, 75, None, 90, 10, \"eighty\"],\n",
    "    \"TestScore\": [82, 79, 88, 40, 105, 55, 12, \"NULL\", 78, 84,\n",
    "                  60, 63, 59, 91, 71, 85, 69, 77, 15, 88],\n",
    "    \"Passed\": [\"Yes\", \"YES\", \"yes\", \"No\", \"Yes\", \"No\", \"no\", \"Yes\", \"Yes\", \"yess\",\n",
    "               \"No\", \"no\", \"Yes\", \"No\", \"Y\", \"Yes\", \"YES\", \"yes\", \"No\",\"maybe\"]\n",
    "}\n",
    "\n",
    "df = pd.DataFrame(data)\n",
    "df"
   ]
  },
  {
   "cell_type": "code",
   "execution_count": null,
   "id": "ada07fa4",
   "metadata": {},
   "outputs": [],
   "source": [
    "df.isnull().sum()"
   ]
  },
  {
   "cell_type": "code",
   "execution_count": null,
   "id": "e42257fd",
   "metadata": {},
   "outputs": [],
   "source": [
    "df.dropna(inplace=True)\n",
    "df.isna().sum()"
   ]
  },
  {
   "cell_type": "code",
   "execution_count": null,
   "id": "abc1e729",
   "metadata": {},
   "outputs": [],
   "source": [
    "df['Age'].fillna(df['Age'].mode()[0],inplace=True)\n",
    "df"
   ]
  },
  {
   "cell_type": "code",
   "execution_count": null,
   "id": "327f2238",
   "metadata": {},
   "outputs": [],
   "source": [
    "print(df['StudyHours'].dtype)"
   ]
  },
  {
   "cell_type": "code",
   "execution_count": null,
   "id": "02eeec66",
   "metadata": {},
   "outputs": [],
   "source": [
    "df['StudyHours'] = pd.to_numeric(df['StudyHours'], errors='coerce')  # use this before astype\n",
    "print(df['StudyHours'].dtype)\n",
    "df"
   ]
  },
  {
   "cell_type": "code",
   "execution_count": null,
   "id": "b19e4691",
   "metadata": {},
   "outputs": [],
   "source": [
    "df['StudyHours'] = df['StudyHours'].astype('float64')   # ValueError: could not convert string to float: 'four'\n",
    "print(df['StudyHours'].dtype)\n",
    "df"
   ]
  },
  {
   "cell_type": "code",
   "execution_count": null,
   "id": "12630fa6",
   "metadata": {},
   "outputs": [],
   "source": [
    "df['StudyHours'].fillna(df['StudyHours'].mean(),inplace=True)"
   ]
  },
  {
   "cell_type": "code",
   "execution_count": null,
   "id": "73137eb1",
   "metadata": {},
   "outputs": [],
   "source": [
    "df.isnull().sum()\n",
    "df"
   ]
  },
  {
   "cell_type": "code",
   "execution_count": null,
   "id": "5e9e7983",
   "metadata": {},
   "outputs": [],
   "source": [
    "df['Attendance'] = pd.to_numeric(df['Attendance'], errors='coerce')\n",
    "df['Attendance'] = df['Attendance'].astype('Int64')\n",
    "print(df)\n",
    "print(df['Attendance'].dtype)"
   ]
  },
  {
   "cell_type": "code",
   "execution_count": null,
   "id": "6912474e",
   "metadata": {},
   "outputs": [],
   "source": [
    "df['Attendance'].fillna(df['Attendance'].mode()[0], inplace=True)"
   ]
  },
  {
   "cell_type": "code",
   "execution_count": null,
   "id": "9bed7c2b",
   "metadata": {},
   "outputs": [],
   "source": [
    "for i in df.index:\n",
    "    if df.loc[i,'Name'] == 'NaN':\n",
    "        df.loc[i,'Name'] = 'Unknown'\n",
    "\n",
    "df"
   ]
  },
  {
   "cell_type": "code",
   "execution_count": null,
   "id": "98239383",
   "metadata": {},
   "outputs": [],
   "source": [
    "df['Age'] = pd.to_numeric(df['Age'], errors='coerce')\n",
    "df['Age'] = df['Age'].astype('Int64')\n",
    "print(df)\n",
    "print(df['Age'].dtype)"
   ]
  },
  {
   "cell_type": "code",
   "execution_count": null,
   "id": "46114fad",
   "metadata": {},
   "outputs": [],
   "source": [
    "df['Age'].fillna(df['Age'].mode()[0],inplace=True)\n",
    "df"
   ]
  },
  {
   "cell_type": "code",
   "execution_count": null,
   "id": "149889ee",
   "metadata": {},
   "outputs": [],
   "source": [
    "df['Gender']\n",
    "\n",
    "for i in df.index:\n",
    "    if (df.loc[i,'Gender']).upper().startswith('F'):\n",
    "        df.loc[i,'Gender'] = 'F'\n",
    "    \n",
    "    elif (df.loc[i,'Gender']).upper().startswith('M'):\n",
    "        df.loc[i,'Gender'] = 'M'\n",
    "\n",
    "    else:\n",
    "        df.loc[i,'Gender'] = 'O'\n",
    "\n",
    "df"
   ]
  },
  {
   "cell_type": "code",
   "execution_count": null,
   "id": "f0e300d9",
   "metadata": {},
   "outputs": [],
   "source": [
    "for i in df.index:\n",
    "    if (df.loc[i,'Passed']).upper().startswith('Y'):\n",
    "        df.loc[i,'Passed'] = 'Y'\n",
    "    \n",
    "    elif (df.loc[i,'Passed']).upper().startswith('N'):\n",
    "        df.loc[i,'Passed'] = 'N'\n",
    "\n",
    "    elif df.loc[i,'TestScore']>40 :\n",
    "        df.loc[i,'Passed'] = 'Y'\n",
    "    \n",
    "    else:\n",
    "        df.loc[i,'Passed'] = 'N'\n",
    "\n",
    "\n",
    "df"
   ]
  },
  {
   "cell_type": "code",
   "execution_count": null,
   "id": "9cd4a92a",
   "metadata": {},
   "outputs": [],
   "source": [
    "df['TestScore'] = pd.to_numeric(df['TestScore'], errors='coerce')\n",
    "df['TestScore'] = df['TestScore'].astype('Int64')\n",
    "print(df)\n",
    "print(df['TestScore'].dtype)"
   ]
  },
  {
   "cell_type": "code",
   "execution_count": null,
   "id": "3a3796ba",
   "metadata": {},
   "outputs": [],
   "source": [
    "df['TestScore'].fillna(df['TestScore'].mode()[0], inplace=True)\n",
    "df"
   ]
  },
  {
   "cell_type": "code",
   "execution_count": null,
   "id": "572d55cb",
   "metadata": {},
   "outputs": [],
   "source": [
    "# Replacing Values\n",
    "\n",
    "df.replace({'Y': \"Success\", 'N': 'Failure'},inplace=True)\n",
    "df"
   ]
  },
  {
   "cell_type": "code",
   "execution_count": null,
   "id": "dddbe452",
   "metadata": {},
   "outputs": [],
   "source": [
    "# Conditional column\n",
    "\n",
    "df['Category'] = df['Age'].apply(lambda x:'Adult' if x>18 else 'Child')\n",
    "df"
   ]
  },
  {
   "cell_type": "code",
   "execution_count": null,
   "id": "67ddecef",
   "metadata": {},
   "outputs": [],
   "source": [
    "# Merge\n",
    "\n",
    "df[\"Name_Category\"] = df[\"Name\"]+\"-\"+df[\"Category\"]\n",
    "df"
   ]
  },
  {
   "cell_type": "code",
   "execution_count": null,
   "id": "1fb5cfaa",
   "metadata": {},
   "outputs": [],
   "source": [
    "# Split\n",
    "\n",
    "df[\"Name-split()\"] = df['Name_Category'].str.split(\"-\").str[0]\n",
    "\n",
    "df"
   ]
  }
 ],
 "metadata": {
  "kernelspec": {
   "display_name": "Python 3",
   "language": "python",
   "name": "python3"
  },
  "language_info": {
   "codemirror_mode": {
    "name": "ipython",
    "version": 3
   },
   "file_extension": ".py",
   "mimetype": "text/x-python",
   "name": "python",
   "nbconvert_exporter": "python",
   "pygments_lexer": "ipython3",
   "version": "3.13.2"
  }
 },
 "nbformat": 4,
 "nbformat_minor": 5
}
