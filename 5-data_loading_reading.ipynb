{
 "cells": [
  {
   "cell_type": "code",
   "execution_count": null,
   "id": "35318de5",
   "metadata": {},
   "outputs": [],
   "source": [
    "import pandas as pd"
   ]
  },
  {
   "cell_type": "code",
   "execution_count": null,
   "id": "ed42ff56",
   "metadata": {},
   "outputs": [],
   "source": [
    "df = pd.read_excel('sample_dataset.xlsx')\n",
    "print(df.to_string())  # reads whole dataset"
   ]
  },
  {
   "cell_type": "code",
   "execution_count": null,
   "id": "49da335f",
   "metadata": {},
   "outputs": [],
   "source": [
    "print('Information of dataset:')\n",
    "print(df.info())"
   ]
  },
  {
   "cell_type": "code",
   "execution_count": null,
   "id": "c50bc5fa",
   "metadata": {},
   "outputs": [],
   "source": [
    "print('Describe dataset:')\n",
    "print(df.describe())"
   ]
  },
  {
   "cell_type": "code",
   "execution_count": null,
   "id": "cd43a1a8",
   "metadata": {},
   "outputs": [],
   "source": [
    "print(df.head())  # default = head(5)\n",
    "\n",
    "print('------head(10)------')\n",
    "print(df.head(10))"
   ]
  },
  {
   "cell_type": "code",
   "execution_count": null,
   "id": "6da63cb9",
   "metadata": {},
   "outputs": [],
   "source": [
    "print(df.tail())  # default = tail(5)\n",
    "\n",
    "print('------head(10)------')\n",
    "print(df.tail(10))"
   ]
  },
  {
   "cell_type": "code",
   "execution_count": null,
   "id": "a372a2d5",
   "metadata": {},
   "outputs": [],
   "source": [
    "print('------isna()------')\n",
    "print(df.isna().sum())  # checks for emtpy values\n",
    "\n",
    "print('------isnull()------')\n",
    "print(df.isnull().sum())"
   ]
  },
  {
   "cell_type": "code",
   "execution_count": null,
   "id": "79ac6605",
   "metadata": {},
   "outputs": [
    {
     "name": "stdout",
     "output_type": "stream",
     "text": [
      "Duplicate value:  0\n"
     ]
    },
    {
     "data": {
      "text/plain": [
       "(4, 5)"
      ]
     },
     "execution_count": 18,
     "metadata": {},
     "output_type": "execute_result"
    }
   ],
   "source": [
    "print(\"Duplicate value: \",df.duplicated().sum())\n",
    "df.shape  # shape of dataset"
   ]
  },
  {
   "cell_type": "code",
   "execution_count": null,
   "id": "86e3f354",
   "metadata": {},
   "outputs": [],
   "source": [
    "df = pd.read_json(r\"C:\\Users\\pruth\\Desktop\\mega project web page_main()\\users.json\")\n",
    "df.head()"
   ]
  },
  {
   "cell_type": "code",
   "execution_count": null,
   "id": "15a855ef",
   "metadata": {},
   "outputs": [],
   "source": [
    "df = pd.read_excel(r'sample_dataset.xlsx')\n",
    "df.head()"
   ]
  },
  {
   "cell_type": "code",
   "execution_count": null,
   "id": "1cb2aa0d",
   "metadata": {},
   "outputs": [],
   "source": [
    "# df.to_csv(demo)   # saving DataFrame into csv file"
   ]
  }
 ],
 "metadata": {
  "kernelspec": {
   "display_name": "Python 3",
   "language": "python",
   "name": "python3"
  },
  "language_info": {
   "codemirror_mode": {
    "name": "ipython",
    "version": 3
   },
   "file_extension": ".py",
   "mimetype": "text/x-python",
   "name": "python",
   "nbconvert_exporter": "python",
   "pygments_lexer": "ipython3",
   "version": "3.13.2"
  }
 },
 "nbformat": 4,
 "nbformat_minor": 5
}
