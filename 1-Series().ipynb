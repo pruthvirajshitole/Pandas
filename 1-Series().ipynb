{
 "cells": [
  {
   "cell_type": "markdown",
   "id": "da45b7ad",
   "metadata": {},
   "source": [
    "Series"
   ]
  },
  {
   "cell_type": "code",
   "execution_count": null,
   "id": "dbf16c82",
   "metadata": {},
   "outputs": [],
   "source": [
    "'''\n",
    "- A Pandas Series is like a column in a table.\n",
    "- It is a one-dimensional array holding data of any type.\n",
    "\n",
    "Series Homogeneity:\n",
    "1. A Series is homogeneous when all elements have the same data type (dtype)\n",
    "2. Numeric Series (int, float) are considered homogeneous by default\n",
    "3. Series can be checked for monotonicity (increasing/decreasing order)\n",
    "4. Series can be tested for unique values\n",
    "5. Series always maintains a single dtype for all elements\n",
    "\n",
    "'''"
   ]
  },
  {
   "cell_type": "code",
   "execution_count": null,
   "id": "389949d5",
   "metadata": {},
   "outputs": [],
   "source": [
    "'''\n",
    "Key Features of Pandas Series:\n",
    "\n",
    "1. Indexing Capabilities:\n",
    "    - Supports both implicit (0-based) and explicit (custom) indexing\n",
    "    - Allows for hierarchical/multi-level indexing\n",
    "    - Supports boolean indexing for filtering\n",
    "    - Enables integer-based and label-based indexing\n",
    "\n",
    "2. Mathematical Operations:\n",
    "    - Supports vectorized operations\n",
    "    - Enables element-wise calculations\n",
    "    - Allows arithmetic operations with scalars\n",
    "    - Handles missing values in calculations\n",
    "\n",
    "3. Data Alignment:\n",
    "    - Automatic alignment by index during operations\n",
    "    - Preserves index-value relationship\n",
    "    - Handles operations between Series with different indexes\n",
    "\n",
    "4. Memory Efficiency:\n",
    "    - Optimized for large datasets\n",
    "    - Uses contiguous memory blocks\n",
    "    - Supports memory-efficient data types\n",
    "\n",
    "5. Integration Features:\n",
    "    - Easy conversion to/from Python lists\n",
    "    - Compatible with NumPy arrays\n",
    "    - Can be derived from dictionaries\n",
    "    - Seamless integration with DataFrames\n",
    "\n",
    "6. Statistical Methods:\n",
    "    - Built-in descriptive statistics\n",
    "    - Aggregation functions\n",
    "    - Rolling and expanding window calculations\n",
    "    - Time-series functionality\n",
    "'''"
   ]
  },
  {
   "cell_type": "code",
   "execution_count": 7,
   "id": "3d747f3a",
   "metadata": {},
   "outputs": [
    {
     "name": "stdout",
     "output_type": "stream",
     "text": [
      "Series Parameters:\n",
      "values: [1 2 3]\n",
      "index: RangeIndex(start=0, stop=3, step=1)\n",
      "dtype: int64\n",
      "shape: (3,)\n",
      "size: 3\n",
      "\n",
      "\n"
     ]
    }
   ],
   "source": [
    "import pandas as pd\n",
    "\n",
    "# Series parameters and attributes\n",
    "s = pd.Series([1, 2, 3])\n",
    "print(\"Series Parameters:\")\n",
    "print(f\"values: {s.values}\")\n",
    "print(f\"index: {s.index}\")\n",
    "print(f\"dtype: {s.dtype}\")\n",
    "print(f\"shape: {s.shape}\")\n",
    "print(f\"size: {s.size}\")\n",
    "print(\"\\n\")"
   ]
  },
  {
   "cell_type": "code",
   "execution_count": 5,
   "id": "81cf9805",
   "metadata": {},
   "outputs": [
    {
     "name": "stdout",
     "output_type": "stream",
     "text": [
      "Homogeneity:\n",
      "Data type of Series: int64\n",
      "Is data type consistent: True\n",
      "\n",
      "Mutability:\n",
      "Changed value at index 0 from 1 to 100\n",
      "\n",
      "Series Properties:\n",
      "Size: 5\n",
      "Shape: (5,)\n",
      "Is monotonic increasing: False\n",
      "Is monotonic decreasing: False\n",
      "Has unique values: True\n",
      "\n",
      "Syntax Examples:\n",
      "Access by index: df[0] = 100\n",
      "Slicing: df[1:3] =\n",
      "1    2\n",
      "2    3\n",
      "dtype: int64\n",
      "Mean value: 22.8\n",
      "Sum of values: 114\n"
     ]
    }
   ],
   "source": [
    "\n",
    "# 1. Homogeneity:\n",
    "print(\"Homogeneity:\")\n",
    "print(f\"Data type of Series: {df.dtype}\")\n",
    "print(f\"Is data type consistent: {len(df.unique().dtype) == 0}\\n\")\n",
    "\n",
    "# 2. Mutability\n",
    "print(\"Mutability:\")\n",
    "original_value = df[0]\n",
    "df[0] = 100  # modifying value\n",
    "print(f\"Changed value at index 0 from {original_value} to {df[0]}\\n\")\n",
    "\n",
    "# 3. Series properties\n",
    "print(\"Series Properties:\")\n",
    "print(f\"Size: {df.size}\")\n",
    "print(f\"Shape: {df.shape}\")\n",
    "print(f\"Is monotonic increasing: {df.is_monotonic_increasing}\")\n",
    "print(f\"Is monotonic decreasing: {df.is_monotonic_decreasing}\")\n",
    "print(f\"Has unique values: {df.is_unique}\\n\")\n",
    "\n",
    "# 4. Basic syntax examples\n",
    "print(\"Syntax Examples:\")\n",
    "print(f\"Access by index: df[0] = {df[0]}\")\n",
    "print(f\"Slicing: df[1:3] =\\n{df[1:3]}\")\n",
    "print(f\"Mean value: {df.mean()}\")\n",
    "print(f\"Sum of values: {df.sum()}\")"
   ]
  },
  {
   "cell_type": "code",
   "execution_count": null,
   "id": "ee5ffe45",
   "metadata": {},
   "outputs": [
    {
     "name": "stdout",
     "output_type": "stream",
     "text": [
      "0    1\n",
      "1    2\n",
      "2    3\n",
      "3    4\n",
      "4    x\n",
      "dtype: object\n",
      "2\n",
      "2    3\n",
      "3    4\n",
      "dtype: object\n",
      "<class 'pandas.core.series.Series'>\n"
     ]
    }
   ],
   "source": [
    "l = [1,2,3,4,'x']\n",
    "s = pd.Series(l)\n",
    "print(s)\n",
    "\n",
    "print(s[1])     # slicing\n",
    "print(s[2:4])   # slicing with range\n",
    "\n",
    "print(type(s))  # <class 'pandas.core.series.Series'>"
   ]
  },
  {
   "cell_type": "code",
   "execution_count": 6,
   "id": "7eb11144",
   "metadata": {},
   "outputs": [
    {
     "name": "stdout",
     "output_type": "stream",
     "text": [
      "a    1\n",
      "b    2\n",
      "c    3\n",
      "e    4\n",
      "d    x\n",
      "dtype: object\n",
      "4\n"
     ]
    }
   ],
   "source": [
    "l = [1,2,3,4,'x']\n",
    "s = pd.Series(l,index=['a','b','c','e','d'])  # custom indexing\n",
    "\n",
    "print(s)\n",
    "print(s['e'])"
   ]
  },
  {
   "cell_type": "code",
   "execution_count": null,
   "id": "f63f4a88",
   "metadata": {},
   "outputs": [
    {
     "name": "stdout",
     "output_type": "stream",
     "text": [
      "a    1\n",
      "b    2\n",
      "e    3\n",
      "e    4\n",
      "d    x\n",
      "dtype: object\n",
      "e    3\n",
      "e    4\n",
      "dtype: object\n",
      "3\n"
     ]
    },
    {
     "name": "stderr",
     "output_type": "stream",
     "text": [
      "C:\\Users\\pruth\\AppData\\Local\\Temp\\ipykernel_6824\\2369308505.py:6: FutureWarning: Series.__getitem__ treating keys as positions is deprecated. In a future version, integer keys will always be treated as labels (consistent with DataFrame behavior). To access a value by position, use `ser.iloc[pos]`\n",
      "  print(s['e'][0])\n"
     ]
    }
   ],
   "source": [
    "l = [1,2,3,4,'x']\n",
    "s = pd.Series(l,index=['a','b','e','e','d'])   # indices can be repeated\n",
    "print(s)\n",
    "\n",
    "print(s['e'])\n",
    "print(s['e'][0])  # repeating indices can be further sliced"
   ]
  },
  {
   "cell_type": "code",
   "execution_count": null,
   "id": "6c3533f7",
   "metadata": {},
   "outputs": [
    {
     "data": {
      "text/plain": [
       "d1    200\n",
       "d2    300\n",
       "d3    400\n",
       "dtype: int64"
      ]
     },
     "execution_count": 7,
     "metadata": {},
     "output_type": "execute_result"
    }
   ],
   "source": [
    "cal = {'d1':200,'d2':300,'d3':400}   # creating Series with dict\n",
    "s = pd.Series(cal)\n",
    "s"
   ]
  },
  {
   "cell_type": "code",
   "execution_count": null,
   "id": "2aaa0272",
   "metadata": {},
   "outputs": [
    {
     "data": {
      "text/plain": [
       "d1    200\n",
       "d3    400\n",
       "dtype: int64"
      ]
     },
     "execution_count": 9,
     "metadata": {},
     "output_type": "execute_result"
    }
   ],
   "source": [
    "cal = {'d1':200,'d2':300,'d3':400}\n",
    "s = pd.Series(cal,index=['d1','d3'])  # only extracting the required keys from dict\n",
    "s"
   ]
  }
 ],
 "metadata": {
  "kernelspec": {
   "display_name": "Python 3",
   "language": "python",
   "name": "python3"
  },
  "language_info": {
   "codemirror_mode": {
    "name": "ipython",
    "version": 3
   },
   "file_extension": ".py",
   "mimetype": "text/x-python",
   "name": "python",
   "nbconvert_exporter": "python",
   "pygments_lexer": "ipython3",
   "version": "3.13.2"
  }
 },
 "nbformat": 4,
 "nbformat_minor": 5
}
