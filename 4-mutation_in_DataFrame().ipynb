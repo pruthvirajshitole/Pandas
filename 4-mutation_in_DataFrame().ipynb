{
 "cells": [
  {
   "cell_type": "code",
   "execution_count": 75,
   "id": "d07beb56",
   "metadata": {},
   "outputs": [],
   "source": [
    "import pandas as pd\n",
    "import numpy as np"
   ]
  },
  {
   "cell_type": "code",
   "execution_count": 76,
   "id": "2ce7774f",
   "metadata": {},
   "outputs": [
    {
     "name": "stdout",
     "output_type": "stream",
     "text": [
      "DataFrame Parameters:\n",
      "columns: Index(['A', 'B'], dtype='object')\n",
      "index: RangeIndex(start=0, stop=3, step=1)\n",
      "dtypes: A     int64\n",
      "B    object\n",
      "dtype: object\n",
      "shape: (3, 2)\n",
      "size: 6\n",
      "values: [[1 'a']\n",
      " [2 'b']\n",
      " [3 'c']]\n",
      "axes: [RangeIndex(start=0, stop=3, step=1), Index(['A', 'B'], dtype='object')]\n"
     ]
    }
   ],
   "source": [
    "# DataFrame parameters and attributes\n",
    "df = pd.DataFrame({'A': [1, 2, 3], 'B': ['a', 'b', 'c']})\n",
    "print(\"DataFrame Parameters:\")\n",
    "print(f\"columns: {df.columns}\")\n",
    "print(f\"index: {df.index}\")\n",
    "print(f\"dtypes: {df.dtypes}\")\n",
    "print(f\"shape: {df.shape}\")\n",
    "print(f\"size: {df.size}\")\n",
    "print(f\"values: {df.values}\")\n",
    "print(f\"axes: {df.axes}\")"
   ]
  },
  {
   "cell_type": "markdown",
   "id": "444a7096",
   "metadata": {},
   "source": [
    "Mutation in DataFrame"
   ]
  },
  {
   "cell_type": "code",
   "execution_count": 77,
   "id": "592ec56e",
   "metadata": {},
   "outputs": [
    {
     "name": "stdout",
     "output_type": "stream",
     "text": [
      "------data------\n",
      "   calories  duration\n",
      "0       400        50\n",
      "1       200        42\n",
      "2       100        35\n",
      "3       300        67\n",
      "4       270        61\n",
      "------.loc-----\n",
      "   calories  duration\n",
      "1       200        42\n",
      "2       100        35\n",
      "3       300        67\n",
      "------.iloc-----\n",
      "   calories  duration\n",
      "1       200        42\n",
      "2       100        35\n",
      "Calories at 0 index: 400\n",
      "Calories at 0 index: 400\n"
     ]
    }
   ],
   "source": [
    "data={\n",
    "        \"calories\":[400,200,100,300,270],\n",
    "        \"duration\":[50,42,35,67,61]\n",
    "     }\n",
    "\n",
    "print('------data------')\n",
    "df=pd.DataFrame(data)\n",
    "print(df)\n",
    "\n",
    "print('------.loc-----') \n",
    "print(df.loc[1:3])   # includes last index\n",
    "\n",
    "print('------.iloc-----')\n",
    "print(df.iloc[1:3])  # excludes last index\n",
    "\n",
    "print(\"Calories at 0 index:\",df.loc[0,'calories'])\n",
    "print(\"Calories at 0 index:\",df.iloc[0,0])"
   ]
  },
  {
   "cell_type": "code",
   "execution_count": 78,
   "id": "a8b07b82",
   "metadata": {},
   "outputs": [
    {
     "name": "stdout",
     "output_type": "stream",
     "text": [
      "------add column------\n",
      "   calories  duration  age\n",
      "0       400        50   23\n",
      "1       200        42   34\n",
      "2       100        35   56\n",
      "3       300        67   44\n",
      "4       270        61   34\n",
      "------add row------\n",
      "   calories  duration  age\n",
      "0       400        50   23\n",
      "1       200        42   34\n",
      "2       100        35   56\n",
      "3       300        67   44\n",
      "4       270        61   34\n",
      "5       230        45   43\n"
     ]
    }
   ],
   "source": [
    "# Add new row and column in DataFrame\n",
    "\n",
    "# 1-add column\n",
    "print('------add column------')\n",
    "df['age'] = [23,34,56,44,34]\n",
    "print(df)\n",
    "\n",
    "# 2-add row\n",
    "print('------add row------')\n",
    "df.loc[5] = [230,45,43]\n",
    "print(df)"
   ]
  },
  {
   "cell_type": "code",
   "execution_count": 79,
   "id": "5c56c4ff",
   "metadata": {},
   "outputs": [
    {
     "name": "stdout",
     "output_type": "stream",
     "text": [
      "------updating single value------\n",
      "   calories  duration  age\n",
      "0       400        50   23\n",
      "1       200        42   30\n",
      "2       100        35   56\n",
      "3       300        67   44\n",
      "4       270        61   34\n",
      "5       230        45   43\n",
      "------updating column['calories'] based on condition------\n",
      "   calories  duration  age\n",
      "0       400        50   22\n",
      "1       200        42   30\n",
      "2       100        35   56\n",
      "3       300        67   44\n",
      "4       270        61   34\n",
      "5       230        45   43\n",
      "------with .iloc------\n",
      "   calories  duration  age\n",
      "0       400        50   50\n",
      "1       200        42   30\n",
      "2       100        35   56\n",
      "3       300        67   44\n",
      "4       270        61   34\n",
      "5       230        45   43\n",
      "   calories  duration  age\n",
      "0       400        50   50\n",
      "1       200        42   30\n",
      "2       100        35   56\n",
      "3       300        60   44\n",
      "4       270        60   34\n",
      "5       230        45   43\n"
     ]
    }
   ],
   "source": [
    "# Update values\n",
    "\n",
    "# Single value update\n",
    "print('------updating single value------')\n",
    "df.loc[1,'age'] = 30\n",
    "print(df)\n",
    "\n",
    "# Update column based on condition\n",
    "print(\"------updating column['calories'] based on condition------\")\n",
    "df.loc[df['calories']==400, 'age'] = 22\n",
    "print(df)\n",
    "\n",
    "# with .iloc\n",
    "print('------with .iloc------')\n",
    "df.iloc[df['calories']==400, 2] = 50\n",
    "print(df)\n",
    "\n",
    "df.loc[df['duration']>60,'duration'] = 60\n",
    "print(df)"
   ]
  },
  {
   "cell_type": "code",
   "execution_count": 80,
   "id": "21b5aa09",
   "metadata": {},
   "outputs": [
    {
     "name": "stdout",
     "output_type": "stream",
     "text": [
      "------inserting a new column------\n",
      "   calories    x  duration  age\n",
      "0       400  101        50   50\n",
      "1       200  102        42   30\n",
      "2       100  103        35   56\n",
      "3       300  104        60   44\n",
      "4       270  105        60   34\n",
      "5       230  106        45   43\n",
      "------inserting a new row------\n",
      "   calories    x  duration  age\n",
      "0       400  101        50   50\n",
      "1       200  102        42   30\n",
      "2       100  103        35   56\n",
      "3       300  104        60   44\n",
      "0       200   43        54   31\n",
      "4       270  105        60   34\n",
      "5       230  106        45   43\n",
      "------inserting a new column(with reseting indices)------\n",
      "   calories    x  duration  age\n",
      "0       400  101        50   50\n",
      "1       200  102        42   30\n",
      "2       100  103        35   56\n",
      "3       300  104        60   44\n",
      "4       200   43        54   31\n",
      "5       270  105        60   34\n",
      "6       230  106        45   43\n"
     ]
    }
   ],
   "source": [
    "# insert\n",
    "\n",
    "# 1- insert a column\n",
    "print('------inserting a new column------')\n",
    "df.insert(1,'x',[101,102,103,104,105,106])\n",
    "print(df)\n",
    "\n",
    "# 2- insert a row\n",
    "print('------inserting a new row------')\n",
    "df1 = pd.DataFrame({'calories':[200], 'x':[43], 'duration':[54], 'age':[31]})\n",
    "df = pd.concat([df.loc[:3],df1,df.loc[4:]])   # gives random index\n",
    "print(df)\n",
    "\n",
    "print('------inserting a new column(with reseting indices)------')\n",
    "df1 = pd.DataFrame({'calories':[200], 'x':[43], 'duration':[54], 'age':[31]})\n",
    "df = pd.concat([df.loc[:3],df1,df.loc[4:]]).reset_index(drop=True)  # resets index in order\n",
    "print(df)"
   ]
  },
  {
   "cell_type": "code",
   "execution_count": 81,
   "id": "a83a838e",
   "metadata": {},
   "outputs": [
    {
     "name": "stdout",
     "output_type": "stream",
     "text": [
      "------delete a column(del)------\n",
      "   calories  duration  age\n",
      "0       400        50   50\n",
      "1       200        42   30\n",
      "2       100        35   56\n",
      "3       300        60   44\n",
      "4       200        54   31\n",
      "5       270        60   34\n",
      "6       230        45   43\n",
      "------inserting a new column(drop())------\n",
      "   calories  duration\n",
      "0       400        50\n",
      "1       200        42\n",
      "2       100        35\n",
      "3       300        60\n",
      "4       200        54\n",
      "5       270        60\n",
      "6       230        45\n",
      "------delete a row------\n",
      "   calories  duration\n",
      "0       400        50\n",
      "1       200        42\n",
      "2       100        35\n",
      "4       200        54\n",
      "5       270        60\n",
      "6       230        45\n"
     ]
    }
   ],
   "source": [
    "# delete\n",
    "\n",
    "# 1-delete a column\n",
    "print('------delete a column(del)------')\n",
    "del df['x']\n",
    "print(df)\n",
    "\n",
    "print('------inserting a new column(drop())------')\n",
    "df = df.drop(columns='age')\n",
    "print(df)\n",
    "\n",
    "# 2- delete a row\n",
    "print('------delete a row------')\n",
    "df = df.drop(3)\n",
    "print(df)"
   ]
  },
  {
   "cell_type": "code",
   "execution_count": 86,
   "id": "cb20781e",
   "metadata": {},
   "outputs": [
    {
     "name": "stdout",
     "output_type": "stream",
     "text": [
      "   calories  duration\n",
      "0       400        50\n",
      "1       200        42\n",
      "2       100        35\n",
      "4       200        54\n",
      "5       270        60\n",
      "6       230        45\n",
      "------reset_index()------\n",
      "   calories  duration\n",
      "0       400        50\n",
      "1       200        42\n",
      "2       100        35\n",
      "3       200        54\n",
      "4       270        60\n",
      "5       230        45\n"
     ]
    }
   ],
   "source": [
    "print(df)\n",
    "\n",
    "print('------reset_index()------')\n",
    "print(df.reset_index(drop=True))"
   ]
  }
 ],
 "metadata": {
  "kernelspec": {
   "display_name": "Python 3",
   "language": "python",
   "name": "python3"
  },
  "language_info": {
   "codemirror_mode": {
    "name": "ipython",
    "version": 3
   },
   "file_extension": ".py",
   "mimetype": "text/x-python",
   "name": "python",
   "nbconvert_exporter": "python",
   "pygments_lexer": "ipython3",
   "version": "3.13.2"
  }
 },
 "nbformat": 4,
 "nbformat_minor": 5
}
